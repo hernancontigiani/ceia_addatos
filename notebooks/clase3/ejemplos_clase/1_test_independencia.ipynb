{
 "cells": [
  {
   "cell_type": "code",
   "execution_count": 2,
   "id": "d0515e7c-41b6-42ea-bb25-f0e87e3329d5",
   "metadata": {},
   "outputs": [],
   "source": [
    "import numpy as np"
   ]
  },
  {
   "cell_type": "code",
   "execution_count": 19,
   "id": "077a52ce-c14e-4888-b018-83948f8c3997",
   "metadata": {},
   "outputs": [],
   "source": [
    "# Filas --> Maradona y Messi\n",
    "# Columna -->  goles nacionales y goles equipos\n",
    "datos = np.array([[34, 320], [71, 741]])"
   ]
  },
  {
   "cell_type": "code",
   "execution_count": 20,
   "id": "d1c0e26e-de28-4fb3-aa92-667876502064",
   "metadata": {},
   "outputs": [
    {
     "data": {
      "text/plain": [
       "1166"
      ]
     },
     "execution_count": 20,
     "metadata": {},
     "output_type": "execute_result"
    }
   ],
   "source": [
    "n = np.sum(datos)\n",
    "n"
   ]
  },
  {
   "cell_type": "code",
   "execution_count": 21,
   "id": "97a91142-96d3-4717-bcdf-f6c3196f6182",
   "metadata": {},
   "outputs": [
    {
     "data": {
      "text/plain": [
       "array([[ 31.87821612, 322.12178388],\n",
       "       [ 73.12178388, 738.87821612]])"
      ]
     },
     "execution_count": 21,
     "metadata": {},
     "output_type": "execute_result"
    }
   ],
   "source": [
    "valores_esperados = np.array([\n",
    "    [np.sum(datos[:, 0]) * sum(datos[0, :]) /n, np.sum(datos[:, 1]) * sum(datos[0, :]) /n],\n",
    "    [np.sum(datos[:, 0]) * sum(datos[1, :]) /n, np.sum(datos[:, 1]) * sum(datos[1, :]) /n],\n",
    "])\n",
    "tabla_teorica"
   ]
  },
  {
   "cell_type": "code",
   "execution_count": 22,
   "id": "b37e1aff-e69a-40c2-9b5e-30deeaf22580",
   "metadata": {},
   "outputs": [
    {
     "data": {
      "text/plain": [
       "0.2228609445075468"
      ]
     },
     "execution_count": 22,
     "metadata": {},
     "output_type": "execute_result"
    }
   ],
   "source": [
    "T = 0\n",
    "for i in range(datos.shape[0]):\n",
    "    for j in range(datos.shape[1]):\n",
    "        T = T+((datos[i,j] - valores_esperados[i,j])**2 / valores_esperados[i,j])\n",
    "T"
   ]
  },
  {
   "cell_type": "code",
   "execution_count": 25,
   "id": "99597584-b6fd-4b09-acd0-ed74a13303c1",
   "metadata": {},
   "outputs": [
    {
     "data": {
      "text/plain": [
       "0.2228609445075468"
      ]
     },
     "execution_count": 25,
     "metadata": {},
     "output_type": "execute_result"
    }
   ],
   "source": [
    "T = np.sum((datos - valores_esperados)**2 / valores_esperados)\n",
    "T"
   ]
  },
  {
   "cell_type": "code",
   "execution_count": null,
   "id": "e16fb81e-bc08-467f-9d0d-eb7d9d70fcfd",
   "metadata": {},
   "outputs": [],
   "source": []
  },
  {
   "cell_type": "code",
   "execution_count": 24,
   "id": "fe20dcb0-e8d8-4368-b2ae-0fb437d64709",
   "metadata": {},
   "outputs": [
    {
     "data": {
      "text/plain": [
       "5.023886187314888"
      ]
     },
     "execution_count": 24,
     "metadata": {},
     "output_type": "execute_result"
    }
   ],
   "source": [
    "from scipy.stats.distributions import chi2\n",
    "# df = (r-1) * (c-1)\n",
    "df = (datos.shape[0]-1) * (datos.shape[1]-1)\n",
    "T_limite = chi2.ppf(0.975, df=df)\n",
    "T_limite"
   ]
  },
  {
   "cell_type": "code",
   "execution_count": null,
   "id": "d05253d1-ed7c-4cb3-be36-90aeed1ad27e",
   "metadata": {},
   "outputs": [],
   "source": []
  }
 ],
 "metadata": {
  "kernelspec": {
   "display_name": "Python 3",
   "language": "python",
   "name": "python3"
  },
  "language_info": {
   "codemirror_mode": {
    "name": "ipython",
    "version": 3
   },
   "file_extension": ".py",
   "mimetype": "text/x-python",
   "name": "python",
   "nbconvert_exporter": "python",
   "pygments_lexer": "ipython3",
   "version": "3.9.2"
  }
 },
 "nbformat": 4,
 "nbformat_minor": 5
}
