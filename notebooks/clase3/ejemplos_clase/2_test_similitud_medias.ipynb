{
 "cells": [
  {
   "cell_type": "code",
   "execution_count": 4,
   "id": "d0515e7c-41b6-42ea-bb25-f0e87e3329d5",
   "metadata": {},
   "outputs": [],
   "source": [
    "import numpy as np"
   ]
  },
  {
   "cell_type": "code",
   "execution_count": 14,
   "id": "077a52ce-c14e-4888-b018-83948f8c3997",
   "metadata": {},
   "outputs": [],
   "source": [
    "n1 = 91\n",
    "x1 = 0.37\n",
    "std1 = 4.4\n",
    "\n",
    "n2 = 142\n",
    "x2 = 0.5\n",
    "std2 = 5.9\n",
    "\n",
    "alfa = 0.05"
   ]
  },
  {
   "cell_type": "code",
   "execution_count": 1,
   "id": "d1c0e26e-de28-4fb3-aa92-667876502064",
   "metadata": {},
   "outputs": [],
   "source": [
    "# Deseamos determinar si las medias son iguales\n",
    "# A simple vista parece ser que x2 tiene una media mayor que x1 pero puede estar incluido en el desvio"
   ]
  },
  {
   "cell_type": "code",
   "execution_count": 8,
   "id": "9c74c950-bad2-4718-bde7-fc6a4a486d35",
   "metadata": {},
   "outputs": [],
   "source": [
    "# grados de libertad\n",
    "df = n1 + n2 - 2"
   ]
  },
  {
   "cell_type": "code",
   "execution_count": 12,
   "id": "e16fb81e-bc08-467f-9d0d-eb7d9d70fcfd",
   "metadata": {},
   "outputs": [
    {
     "data": {
      "text/plain": [
       "28.79051948051948"
      ]
     },
     "execution_count": 12,
     "metadata": {},
     "output_type": "execute_result"
    }
   ],
   "source": [
    "S_combinada = ((n1-1)*std1**2 + (n2-1)*std2**2) / df\n",
    "S_combinada"
   ]
  },
  {
   "cell_type": "code",
   "execution_count": 13,
   "id": "3a5daddf-5ecb-4732-9255-fd07c149d0bf",
   "metadata": {},
   "outputs": [
    {
     "data": {
      "text/plain": [
       "0.7205063997894262"
      ]
     },
     "execution_count": 13,
     "metadata": {},
     "output_type": "execute_result"
    }
   ],
   "source": [
    "SEdif = np.sqrt(S_combinada*((1/n1) + (1/n2)))\n",
    "SEdif"
   ]
  },
  {
   "cell_type": "code",
   "execution_count": 15,
   "id": "0a8fad1e-aebd-4c75-8b1e-f6f98a14715e",
   "metadata": {},
   "outputs": [
    {
     "data": {
      "text/plain": [
       "1.9702866592816692"
      ]
     },
     "execution_count": 15,
     "metadata": {},
     "output_type": "execute_result"
    }
   ],
   "source": [
    "from scipy.stats import t\n",
    "T_critico = t.ppf(1-alfa/2, df=df)\n",
    "T_critico"
   ]
  },
  {
   "cell_type": "code",
   "execution_count": 17,
   "id": "6b0ba7e7-695f-4c39-92d9-9ab6c8ccc7e2",
   "metadata": {},
   "outputs": [
    {
     "name": "stdout",
     "output_type": "stream",
     "text": [
      "-1.5496041474321713\n",
      "1.2896041474321716\n"
     ]
    }
   ],
   "source": [
    "IC_min = (x1-x2) - T_critico * SEdif\n",
    "IC_max = (x1-x2) + T_critico * SEdif\n",
    "print(IC_min)\n",
    "print(IC_max)"
   ]
  },
  {
   "cell_type": "code",
   "execution_count": 19,
   "id": "347c007f-e4b2-4244-ba6b-6a98106656bb",
   "metadata": {},
   "outputs": [
    {
     "name": "stdout",
     "output_type": "stream",
     "text": [
      "Si\n"
     ]
    }
   ],
   "source": [
    "# Esta el cero contenido en el intervalo\n",
    "if(IC_min <= 0 and IC_max >= 0):\n",
    "    print(\"Si\")\n",
    "else:\n",
    "    print(\"No\")"
   ]
  }
 ],
 "metadata": {
  "kernelspec": {
   "display_name": "Python 3",
   "language": "python",
   "name": "python3"
  },
  "language_info": {
   "codemirror_mode": {
    "name": "ipython",
    "version": 3
   },
   "file_extension": ".py",
   "mimetype": "text/x-python",
   "name": "python",
   "nbconvert_exporter": "python",
   "pygments_lexer": "ipython3",
   "version": "3.9.2"
  }
 },
 "nbformat": 4,
 "nbformat_minor": 5
}
