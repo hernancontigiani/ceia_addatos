{
 "cells": [
  {
   "cell_type": "code",
   "execution_count": 32,
   "id": "d0515e7c-41b6-42ea-bb25-f0e87e3329d5",
   "metadata": {},
   "outputs": [],
   "source": [
    "import numpy as np"
   ]
  },
  {
   "cell_type": "code",
   "execution_count": 33,
   "id": "077a52ce-c14e-4888-b018-83948f8c3997",
   "metadata": {},
   "outputs": [],
   "source": [
    "n1 = 91\n",
    "x1 = 0.37\n",
    "std1 = 4.4\n",
    "\n",
    "n2 = 142\n",
    "x2 = 0.5\n",
    "std2 = 5.9\n",
    "\n",
    "n3 = 51\n",
    "x3 = 0.33\n",
    "std3 = 3.4\n",
    "\n",
    "k = 3\n",
    "\n",
    "alfa = 0.05"
   ]
  },
  {
   "cell_type": "code",
   "execution_count": 34,
   "id": "acd73e42-375f-4f69-8e8b-3769d021d1f1",
   "metadata": {},
   "outputs": [
    {
     "data": {
      "text/plain": [
       "array([[ 91.  ,   0.37,   4.4 ],\n",
       "       [142.  ,   0.5 ,   5.9 ],\n",
       "       [ 51.  ,   0.33,   3.4 ]])"
      ]
     },
     "execution_count": 34,
     "metadata": {},
     "output_type": "execute_result"
    }
   ],
   "source": [
    "datos = np.array([\n",
    "    [n1, x1, std1],\n",
    "    [n2, x2, std2],\n",
    "    [n3, x3, std3]\n",
    "                 ])\n",
    "datos"
   ]
  },
  {
   "cell_type": "code",
   "execution_count": 35,
   "id": "968cba53-ff77-4a8c-909c-3f862314a84f",
   "metadata": {},
   "outputs": [],
   "source": [
    "# Deseamos determinar si los 3 jugadores (los tres grupos) se parecen observando las medias (X)"
   ]
  },
  {
   "cell_type": "code",
   "execution_count": 36,
   "id": "bb8a8c62-7d4b-4942-8c94-682ef1d7664a",
   "metadata": {},
   "outputs": [
    {
     "data": {
      "text/plain": [
       "284.0"
      ]
     },
     "execution_count": 36,
     "metadata": {},
     "output_type": "execute_result"
    }
   ],
   "source": [
    "n = np.sum(datos[:, 0])\n",
    "n"
   ]
  },
  {
   "cell_type": "code",
   "execution_count": 37,
   "id": "ce5cbcf6-b17a-4ce3-b460-b3f56cb1e014",
   "metadata": {},
   "outputs": [
    {
     "data": {
      "text/plain": [
       "0.4278169014084507"
      ]
     },
     "execution_count": 37,
     "metadata": {},
     "output_type": "execute_result"
    }
   ],
   "source": [
    "X_media_total = np.sum(datos[:, 0] * datos[:, 1]) / n\n",
    "X_media_total # tiene que dar"
   ]
  },
  {
   "cell_type": "code",
   "execution_count": 38,
   "id": "92618f04-94ec-44e8-a170-5ba5adfc4ca2",
   "metadata": {},
   "outputs": [
    {
     "data": {
      "text/plain": [
       "2"
      ]
     },
     "execution_count": 38,
     "metadata": {},
     "output_type": "execute_result"
    }
   ],
   "source": [
    "# grados de libertad\n",
    "df_e = datos.shape[0] - 1\n",
    "df_e"
   ]
  },
  {
   "cell_type": "code",
   "execution_count": 39,
   "id": "7a433bf6-d5f4-40f2-abab-78b41827e026",
   "metadata": {},
   "outputs": [
    {
     "data": {
      "text/plain": [
       "0.7660232394366198"
      ]
     },
     "execution_count": 39,
     "metadata": {},
     "output_type": "execute_result"
    }
   ],
   "source": [
    "Se2 = 0\n",
    "for i in range(datos.shape[0]):\n",
    "    Se2 += datos[i, 0] * (datos[i, 1] - X_media_total)**2\n",
    "Se2 /= df_e\n",
    "Se2"
   ]
  },
  {
   "cell_type": "code",
   "execution_count": 40,
   "id": "dcfa9ca6-77a9-4b26-856c-11cfd79cc30c",
   "metadata": {},
   "outputs": [
    {
     "data": {
      "text/plain": [
       "281.0"
      ]
     },
     "execution_count": 40,
     "metadata": {},
     "output_type": "execute_result"
    }
   ],
   "source": [
    "# grados de libertad\n",
    "df_d = n - datos.shape[0]\n",
    "df_d"
   ]
  },
  {
   "cell_type": "code",
   "execution_count": 41,
   "id": "1ba03419-8a05-4a9c-a389-0b56e461cb38",
   "metadata": {},
   "outputs": [
    {
     "data": {
      "text/plain": [
       "25.724590747330964"
      ]
     },
     "execution_count": 41,
     "metadata": {},
     "output_type": "execute_result"
    }
   ],
   "source": [
    "Sd2 = 0\n",
    "for i in range(datos.shape[0]):\n",
    "    Sd2 += (datos[i, 0] - 1) * datos[i, 2]**2\n",
    "Sd2 /= df_d\n",
    "Sd2"
   ]
  },
  {
   "cell_type": "code",
   "execution_count": 42,
   "id": "555e46e4-68c3-4fe8-a3d3-857f22b1b54c",
   "metadata": {},
   "outputs": [
    {
     "data": {
      "text/plain": [
       "0.02977785912944399"
      ]
     },
     "execution_count": 42,
     "metadata": {},
     "output_type": "execute_result"
    }
   ],
   "source": [
    "F = Se2 / Sd2\n",
    "F"
   ]
  },
  {
   "cell_type": "code",
   "execution_count": 43,
   "id": "0a8fad1e-aebd-4c75-8b1e-f6f98a14715e",
   "metadata": {},
   "outputs": [
    {
     "data": {
      "text/plain": [
       "3.737732515823899"
      ]
     },
     "execution_count": 43,
     "metadata": {},
     "output_type": "execute_result"
    }
   ],
   "source": [
    "from scipy.stats import f\n",
    "F_critico = f.ppf(1-alfa/2, df_e, df_d)\n",
    "F_critico"
   ]
  },
  {
   "cell_type": "code",
   "execution_count": 45,
   "id": "347c007f-e4b2-4244-ba6b-6a98106656bb",
   "metadata": {},
   "outputs": [
    {
     "name": "stdout",
     "output_type": "stream",
     "text": [
      "Si, los jugadores se parecen en cuanto a rendimientos de goles\n"
     ]
    }
   ],
   "source": [
    "# Esta el cero contenido en el intervalo\n",
    "if F < F_critico:\n",
    "    print(\"Si, los jugadores se parecen en cuanto a rendimientos de goles\")\n",
    "else:\n",
    "    print(\"No, no se parecen\")"
   ]
  }
 ],
 "metadata": {
  "kernelspec": {
   "display_name": "Python 3",
   "language": "python",
   "name": "python3"
  },
  "language_info": {
   "codemirror_mode": {
    "name": "ipython",
    "version": 3
   },
   "file_extension": ".py",
   "mimetype": "text/x-python",
   "name": "python",
   "nbconvert_exporter": "python",
   "pygments_lexer": "ipython3",
   "version": "3.9.2"
  }
 },
 "nbformat": 4,
 "nbformat_minor": 5
}
