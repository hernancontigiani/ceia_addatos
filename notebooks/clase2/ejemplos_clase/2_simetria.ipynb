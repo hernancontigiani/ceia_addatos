{
 "cells": [
  {
   "cell_type": "code",
   "execution_count": 2,
   "id": "5d13e0c1-59c5-435f-87ac-f31cd2b6dece",
   "metadata": {},
   "outputs": [],
   "source": [
    "import numpy as np\n",
    "import matplotlib.pyplot as plt\n",
    "from scipy.stats import skew"
   ]
  },
  {
   "cell_type": "markdown",
   "id": "4b59ec56-f24b-4083-9de6-107c8d1f5135",
   "metadata": {},
   "source": [
    "### Simetria (skew) de diferentes distribuciones"
   ]
  },
  {
   "cell_type": "code",
   "execution_count": 4,
   "id": "aa272d5a-788e-4edc-8be7-91a34d9423ee",
   "metadata": {},
   "outputs": [],
   "source": [
    "mu, sigma = 1, 1 # media y desvio estandar\n",
    "n = 10000  # nº muestras\n",
    "norm = np.random.normal(mu, sigma, n)"
   ]
  },
  {
   "cell_type": "code",
   "execution_count": 5,
   "id": "a1ad54b3-9e4b-4e18-a418-d8c1066aa36e",
   "metadata": {},
   "outputs": [
    {
     "data": {
      "text/plain": [
       "0.022458056915297224"
      ]
     },
     "execution_count": 5,
     "metadata": {},
     "output_type": "execute_result"
    }
   ],
   "source": [
    "# Media con todas las muestras\n",
    "skew(norm)"
   ]
  },
  {
   "cell_type": "code",
   "execution_count": 25,
   "id": "8c4e0a24-dffb-45d6-a299-3362c84d2e36",
   "metadata": {},
   "outputs": [
    {
     "data": {
      "image/png": "[encoded data removed]",
      "text/plain": [
       "<Figure size 432x288 with 1 Axes>"
      ]
     },
     "metadata": {
      "needs_background": "light"
     },
     "output_type": "display_data"
    }
   ],
   "source": [
    "plt.hist(norm, 20)\n",
    "plt.show()"
   ]
  },
  {
   "cell_type": "markdown",
   "id": "a362560c-6ea5-44af-b6d2-4a65a0ff6cc2",
   "metadata": {},
   "source": [
    "### Media recortada p=0.1 para una Exponencial exp(1) de 10000 muestras"
   ]
  },
  {
   "cell_type": "code",
   "execution_count": 10,
   "id": "d9e5bbc9-b2a8-412e-8f03-34334ceb942f",
   "metadata": {},
   "outputs": [],
   "source": [
    "exp = np.random.exponential(sigma, n)"
   ]
  },
  {
   "cell_type": "code",
   "execution_count": 23,
   "id": "3dd28f9e-a016-4107-a12d-08d37ee91321",
   "metadata": {},
   "outputs": [
    {
     "data": {
      "image/png": "[encoded data removed]",
      "text/plain": [
       "<Figure size 432x288 with 1 Axes>"
      ]
     },
     "metadata": {
      "needs_background": "light"
     },
     "output_type": "display_data"
    }
   ],
   "source": [
    "plt.hist(exp, 20)\n",
    "plt.show()"
   ]
  },
  {
   "cell_type": "code",
   "execution_count": 9,
   "id": "9c63f2a8-9bcd-486c-9c61-73349e17d7c2",
   "metadata": {},
   "outputs": [
    {
     "data": {
      "text/plain": [
       "1.9183910874259684"
      ]
     },
     "execution_count": 9,
     "metadata": {},
     "output_type": "execute_result"
    }
   ],
   "source": [
    "skew(exp)"
   ]
  }
 ],
 "metadata": {
  "kernelspec": {
   "display_name": "Python 3",
   "language": "python",
   "name": "python3"
  },
  "language_info": {
   "codemirror_mode": {
    "name": "ipython",
    "version": 3
   },
   "file_extension": ".py",
   "mimetype": "text/x-python",
   "name": "python",
   "nbconvert_exporter": "python",
   "pygments_lexer": "ipython3",
   "version": "3.8.8"
  }
 },
 "nbformat": 4,
 "nbformat_minor": 5
}
