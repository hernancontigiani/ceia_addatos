{
 "cells": [
  {
   "cell_type": "code",
   "execution_count": 19,
   "id": "5d13e0c1-59c5-435f-87ac-f31cd2b6dece",
   "metadata": {},
   "outputs": [],
   "source": [
    "import numpy as np\n",
    "import matplotlib.pyplot as plt"
   ]
  },
  {
   "cell_type": "markdown",
   "id": "4b59ec56-f24b-4083-9de6-107c8d1f5135",
   "metadata": {},
   "source": [
    "### Media recortada p=0.1 para una Normal N(1,1) de 10000 muestras"
   ]
  },
  {
   "cell_type": "code",
   "execution_count": 14,
   "id": "aa272d5a-788e-4edc-8be7-91a34d9423ee",
   "metadata": {},
   "outputs": [],
   "source": [
    "mu, sigma = 1, 1 # media y desvio estandar\n",
    "n = 10000  # nº muestras\n",
    "norm = np.random.normal(mu, sigma, n)"
   ]
  },
  {
   "cell_type": "code",
   "execution_count": 15,
   "id": "a1ad54b3-9e4b-4e18-a418-d8c1066aa36e",
   "metadata": {},
   "outputs": [
    {
     "data": {
      "text/plain": [
       "1.0153050568417292"
      ]
     },
     "execution_count": 15,
     "metadata": {},
     "output_type": "execute_result"
    }
   ],
   "source": [
    "# Media con todas las muestras\n",
    "norm.mean()"
   ]
  },
  {
   "cell_type": "code",
   "execution_count": 25,
   "id": "8c4e0a24-dffb-45d6-a299-3362c84d2e36",
   "metadata": {},
   "outputs": [
    {
     "data": {
      "image/png": "[encoded data removed]",
      "text/plain": [
       "<Figure size 432x288 with 1 Axes>"
      ]
     },
     "metadata": {
      "needs_background": "light"
     },
     "output_type": "display_data"
    }
   ],
   "source": [
    "plt.hist(norm, 20)\n",
    "plt.show()"
   ]
  },
  {
   "cell_type": "code",
   "execution_count": 16,
   "id": "a6dc0b18-bf36-4b77-8465-60663bfc5292",
   "metadata": {},
   "outputs": [
    {
     "data": {
      "text/plain": [
       "1.0152714965614345"
      ]
     },
     "execution_count": 16,
     "metadata": {},
     "output_type": "execute_result"
    }
   ],
   "source": [
    "# Media recortada 10%\n",
    "p10 = np.percentile(norm, 10)\n",
    "p90 = np.percentile(norm, 90)\n",
    "norm2 = norm[(norm > p10) & (norm < p90)]\n",
    "norm2.mean()"
   ]
  },
  {
   "cell_type": "code",
   "execution_count": 26,
   "id": "04c9ec14-646a-41f9-afa9-c775bbdb4523",
   "metadata": {},
   "outputs": [
    {
     "data": {
      "image/png": "[encoded data removed]",
      "text/plain": [
       "<Figure size 432x288 with 1 Axes>"
      ]
     },
     "metadata": {
      "needs_background": "light"
     },
     "output_type": "display_data"
    }
   ],
   "source": [
    "plt.hist(norm2, 20)\n",
    "plt.show()"
   ]
  },
  {
   "cell_type": "markdown",
   "id": "da9fda56-95e8-4fdf-b2f5-2b37db06a16c",
   "metadata": {},
   "source": [
    "Como la normal es simétrica (skew=0) y no tiene outliers las medias calculadas dan muy similar"
   ]
  },
  {
   "cell_type": "markdown",
   "id": "a362560c-6ea5-44af-b6d2-4a65a0ff6cc2",
   "metadata": {},
   "source": [
    "### Media recortada p=0.1 para una Exponencial exp(1) de 10000 muestras"
   ]
  },
  {
   "cell_type": "code",
   "execution_count": 17,
   "id": "d9e5bbc9-b2a8-412e-8f03-34334ceb942f",
   "metadata": {},
   "outputs": [
    {
     "data": {
      "text/plain": [
       "1.0066209531033141"
      ]
     },
     "execution_count": 17,
     "metadata": {},
     "output_type": "execute_result"
    }
   ],
   "source": [
    "exp = np.random.exponential(sigma, n)\n",
    "exp.mean()"
   ]
  },
  {
   "cell_type": "code",
   "execution_count": 23,
   "id": "3dd28f9e-a016-4107-a12d-08d37ee91321",
   "metadata": {},
   "outputs": [
    {
     "data": {
      "image/png": "[encoded data removed]",
      "text/plain": [
       "<Figure size 432x288 with 1 Axes>"
      ]
     },
     "metadata": {
      "needs_background": "light"
     },
     "output_type": "display_data"
    }
   ],
   "source": [
    "plt.hist(exp, 20)\n",
    "plt.show()"
   ]
  },
  {
   "cell_type": "code",
   "execution_count": 18,
   "id": "9c63f2a8-9bcd-486c-9c61-73349e17d7c2",
   "metadata": {},
   "outputs": [
    {
     "data": {
      "text/plain": [
       "0.8348655399078901"
      ]
     },
     "execution_count": 18,
     "metadata": {},
     "output_type": "execute_result"
    }
   ],
   "source": [
    "# Media recortada 10%\n",
    "p10 = np.percentile(exp, 10)\n",
    "p90 = np.percentile(exp, 90)\n",
    "exp2 = exp[(exp > p10) & (exp < p90)]\n",
    "exp2.mean()"
   ]
  },
  {
   "cell_type": "code",
   "execution_count": 24,
   "id": "1c5b63b7-ed89-4e8f-ba47-4cf05beb7231",
   "metadata": {},
   "outputs": [
    {
     "data": {
      "image/png": "[encoded data removed]",
      "text/plain": [
       "<Figure size 432x288 with 1 Axes>"
      ]
     },
     "metadata": {
      "needs_background": "light"
     },
     "output_type": "display_data"
    }
   ],
   "source": [
    "plt.hist(exp2, 20)\n",
    "plt.show()"
   ]
  }
 ],
 "metadata": {
  "kernelspec": {
   "display_name": "Python 3",
   "language": "python",
   "name": "python3"
  },
  "language_info": {
   "codemirror_mode": {
    "name": "ipython",
    "version": 3
   },
   "file_extension": ".py",
   "mimetype": "text/x-python",
   "name": "python",
   "nbconvert_exporter": "python",
   "pygments_lexer": "ipython3",
   "version": "3.8.8"
  }
 },
 "nbformat": 4,
 "nbformat_minor": 5
}
