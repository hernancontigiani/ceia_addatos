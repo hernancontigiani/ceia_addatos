{
 "cells": [
  {
   "cell_type": "code",
   "execution_count": 4,
   "id": "026d34ea-05e1-4dce-a121-b274950d93f8",
   "metadata": {},
   "outputs": [],
   "source": [
    "import numpy as np\n",
    "import matplotlib.pyplot as plt\n",
    "import seaborn as sns\n",
    "\n",
    "from scipy.stats import skew, kurtosis"
   ]
  },
  {
   "cell_type": "markdown",
   "id": "7ecac58f-46ae-429d-9b26-478ac59bae12",
   "metadata": {},
   "source": [
    "### 1 - Ejercicio"
   ]
  },
  {
   "cell_type": "markdown",
   "id": "89da71bd-c5db-4945-8d65-7b41b5296f97",
   "metadata": {},
   "source": [
    "Simular N=100 muestras de una V.A X con distribución N(0,1)\n",
    "- Encontrar la curtosis y oblicuidad\n",
    "- Encontrar el IQR\n",
    "- Estimar el desvio estandar usando el rango de mediciones simuladas\n",
    "- Trazar el diagrama de BOX"
   ]
  },
  {
   "cell_type": "code",
   "execution_count": 2,
   "id": "9760f101-b60c-44f7-ba30-8acbdaa4e918",
   "metadata": {},
   "outputs": [],
   "source": [
    "mu, sigma = 0, 1 # media y desvio estandar\n",
    "n = 100  # nº muestras\n",
    "X = np.random.normal(mu, sigma, n)"
   ]
  },
  {
   "cell_type": "code",
   "execution_count": 6,
   "id": "df71ca42-788a-4356-a763-98a830529ba5",
   "metadata": {},
   "outputs": [
    {
     "name": "stdout",
     "output_type": "stream",
     "text": [
      "Curtosis: -0.10037310299268976\n"
     ]
    }
   ],
   "source": [
    "# Curtosis\n",
    "print(\"Curtosis:\", kurtosis(X))"
   ]
  },
  {
   "cell_type": "code",
   "execution_count": 3,
   "id": "a3b34049-4ad7-4098-adcc-d31f1c229dca",
   "metadata": {},
   "outputs": [
    {
     "name": "stdout",
     "output_type": "stream",
     "text": [
      "Oblicuidad: 0.10161644378757455\n"
     ]
    }
   ],
   "source": [
    "# Oblicuidad\n",
    "print(\"Oblicuidad:\", skew(X))"
   ]
  },
  {
   "cell_type": "code",
   "execution_count": 13,
   "id": "2445978a-93e4-4376-8361-5855f07093be",
   "metadata": {},
   "outputs": [
    {
     "name": "stdout",
     "output_type": "stream",
     "text": [
      "IQR: 1.3741435235329298\n"
     ]
    }
   ],
   "source": [
    "# IQR\n",
    "q3 = np.quantile(X, 0.75)\n",
    "q1 = np.quantile(X, 0.25)\n",
    "iqr = q3-q1\n",
    "print(\"IQR:\", iqr)"
   ]
  },
  {
   "cell_type": "code",
   "execution_count": 18,
   "id": "ce472405-f1bf-41b8-abde-a8eccde07f53",
   "metadata": {},
   "outputs": [
    {
     "name": "stdout",
     "output_type": "stream",
     "text": [
      "Desvio estandar estimado 0.8508382330496844 vs 0.9904349712148675\n"
     ]
    }
   ],
   "source": [
    "rango = np.quantile(X, 0.975) - np.quantile(X, 0.025)\n",
    "std_estimado = rango / 4\n",
    "std_aritmetico = X.std()\n",
    "print(\"Desvio estandar estimado\", std_estimado, \"vs\", std_aritmetico)"
   ]
  },
  {
   "cell_type": "code",
   "execution_count": 26,
   "id": "09a65dee-fd25-4b82-b73e-b883ce999e33",
   "metadata": {},
   "outputs": [
    {
     "data": {
      "image/png": "[encoded data removed]",
      "text/plain": [
       "<Figure size 432x288 with 1 Axes>"
      ]
     },
     "metadata": {
      "needs_background": "light"
     },
     "output_type": "display_data"
    }
   ],
   "source": [
    "sns.boxplot(x=X)\n",
    "plt.show()"
   ]
  },
  {
   "cell_type": "markdown",
   "id": "3fd37096-58bb-4398-b1c1-168b8b40f187",
   "metadata": {},
   "source": [
    "### 2 - Ejercicio"
   ]
  },
  {
   "cell_type": "markdown",
   "id": "f3b6ea0c-3984-4913-8568-157f505bd1a7",
   "metadata": {},
   "source": [
    "Simular N=100 muestras de una V.A X con distribución exponencial lamda=1\n",
    "- Encontrar la curtosis y oblicuidad\n",
    "- Encontrar el IQR\n",
    "- Estimar el desvio estandar usando el rango de mediciones simuladas\n",
    "- Trazar el diagrama de BOX"
   ]
  },
  {
   "cell_type": "code",
   "execution_count": 34,
   "id": "b4367feb-0152-40fb-b119-b67ec8f19f19",
   "metadata": {},
   "outputs": [],
   "source": [
    "n = 100  # nº muestras\n",
    "X2 = np.random.exponential(1, n)"
   ]
  },
  {
   "cell_type": "code",
   "execution_count": 35,
   "id": "befdc147-0122-4323-b6dd-32a548e512d7",
   "metadata": {},
   "outputs": [
    {
     "name": "stdout",
     "output_type": "stream",
     "text": [
      "Curtosis: 13.072145435157399\n"
     ]
    }
   ],
   "source": [
    "# Curtosis\n",
    "print(\"Curtosis:\", kurtosis(X2))"
   ]
  },
  {
   "cell_type": "code",
   "execution_count": 36,
   "id": "db7d4cda-184c-4be3-9da3-3b4bc47366d6",
   "metadata": {},
   "outputs": [
    {
     "name": "stdout",
     "output_type": "stream",
     "text": [
      "Oblicuidad: 2.7497436255401446\n"
     ]
    }
   ],
   "source": [
    "# Oblicuidad\n",
    "print(\"Oblicuidad:\", skew(X2))"
   ]
  },
  {
   "cell_type": "code",
   "execution_count": 37,
   "id": "13eba957-8961-4e39-97bb-1258837f6585",
   "metadata": {},
   "outputs": [
    {
     "name": "stdout",
     "output_type": "stream",
     "text": [
      "IQR: 1.1573539569640976\n"
     ]
    }
   ],
   "source": [
    "# IQR\n",
    "q3 = np.quantile(X2, 0.75)\n",
    "q1 = np.quantile(X2, 0.25)\n",
    "iqr = q3-q1\n",
    "print(\"IQR:\", iqr)"
   ]
  },
  {
   "cell_type": "code",
   "execution_count": 38,
   "id": "5c62c6b3-a341-4a0a-bad6-99119435c532",
   "metadata": {},
   "outputs": [
    {
     "name": "stdout",
     "output_type": "stream",
     "text": [
      "Desvio estandar estimado 0.7399415843642688 vs 1.0222699159388478\n"
     ]
    }
   ],
   "source": [
    "rango = np.quantile(X2, 0.975) - np.quantile(X2, 0.025)\n",
    "std_estimado = rango / 4\n",
    "std_aritmetico = X2.std()\n",
    "print(\"Desvio estandar estimado\", std_estimado, \"vs\", std_aritmetico)"
   ]
  },
  {
   "cell_type": "code",
   "execution_count": 39,
   "id": "4b89ef63-0466-446a-a2ca-ae429dba94dd",
   "metadata": {},
   "outputs": [
    {
     "data": {
      "image/png": "[encoded data removed]",
      "text/plain": [
       "<Figure size 432x288 with 1 Axes>"
      ]
     },
     "metadata": {
      "needs_background": "light"
     },
     "output_type": "display_data"
    }
   ],
   "source": [
    "sns.boxplot(x=X2)\n",
    "plt.show()"
   ]
  },
  {
   "cell_type": "markdown",
   "id": "d0092353-83f6-4f51-a82c-3566c7c9422d",
   "metadata": {},
   "source": [
    "### 3 - Ejercicio"
   ]
  },
  {
   "cell_type": "code",
   "execution_count": 36,
   "id": "a8088f5c-41ad-4471-a93f-c8ade0635079",
   "metadata": {},
   "outputs": [],
   "source": [
    "# Amazon stock price (13-Abril -> 13-Mayo)\n",
    "# Referencia --> https://www.investing.com/equities/amazon-com-inc-historical-data\n",
    "stock_price = np.array([3400, 3333, 3379, 3399, 3372, 3334, 3362, 3309, 3340, 3409, 3417, 3458, 3471, 3467, 3386, 3311, 3270, 3306, 3291, 3190, 3223, 3151, 3161])\n",
    "# Las fechas se toman desde el 13 de Abril como el dia 1\n",
    "stock_day = np.arange(1, len(stock_price)+1)"
   ]
  },
  {
   "cell_type": "code",
   "execution_count": 21,
   "id": "02c03857-46a9-4579-8dce-17f43e066c9e",
   "metadata": {},
   "outputs": [
    {
     "name": "stdout",
     "output_type": "stream",
     "text": [
      "Promedio: 3336.478260869565\n",
      "Mediana: 3340.0\n",
      "Desvio: 89.47667637081034\n"
     ]
    },
    {
     "data": {
      "image/png": "[encoded data removed]",
      "text/plain": [
       "<Figure size 432x288 with 1 Axes>"
      ]
     },
     "metadata": {
      "needs_background": "light"
     },
     "output_type": "display_data"
    }
   ],
   "source": [
    "print(\"Promedio:\", stock_price.mean())\n",
    "print(\"Mediana:\", np.median(stock_price))\n",
    "print(\"Desvio:\", stock_price.std())\n",
    "sns.boxplot(x=stock_price)\n",
    "plt.show()"
   ]
  },
  {
   "cell_type": "code",
   "execution_count": 38,
   "id": "5d57dc1e-e7e5-4e32-9511-99eeef89ab99",
   "metadata": {},
   "outputs": [
    {
     "data": {
      "image/png": "[encoded data removed]",
      "text/plain": [
       "<Figure size 432x288 with 1 Axes>"
      ]
     },
     "metadata": {
      "needs_background": "light"
     },
     "output_type": "display_data"
    }
   ],
   "source": [
    "plt.scatter(stock_day, stock_price)\n",
    "plt.show()"
   ]
  },
  {
   "cell_type": "markdown",
   "id": "6e839022-635f-43de-9c66-e2f898486a09",
   "metadata": {},
   "source": [
    "#### Obtener los datos dentro del intervalo de 95% de confianza"
   ]
  },
  {
   "cell_type": "code",
   "execution_count": 31,
   "id": "73dbdaad-91db-4cd3-81c3-0982f818cd7e",
   "metadata": {},
   "outputs": [
    {
     "name": "stdout",
     "output_type": "stream",
     "text": [
      "3468.8\n",
      "3156.5\n"
     ]
    }
   ],
   "source": [
    "# Utilizando los quantiles\n",
    "upper = np.quantile(stock_price, 0.975)\n",
    "lower = np.quantile(stock_price, 0.025)\n",
    "print(upper)\n",
    "print(lower)"
   ]
  },
  {
   "cell_type": "code",
   "execution_count": 41,
   "id": "b7a100fe-4bdd-43a6-8877-8e20e6fbd2c5",
   "metadata": {},
   "outputs": [
    {
     "name": "stdout",
     "output_type": "stream",
     "text": [
      "Cantidad de valores filtrados: 2\n"
     ]
    },
    {
     "data": {
      "text/plain": [
       "3338.904761904762"
      ]
     },
     "execution_count": 41,
     "metadata": {},
     "output_type": "execute_result"
    }
   ],
   "source": [
    "# Datos recordatos\n",
    "mask = (stock_price > lower) & (stock_price < upper)\n",
    "stock_price_filter = stock_price[mask]\n",
    "stock_day_filter = stock_day[mask]\n",
    "print(\"Cantidad de valores filtrados:\", len(stock_price) - len(stock_price_filter))\n",
    "# Media recortada\n",
    "precio_promedio = stock_price_filter.mean()\n",
    "precio_promedio"
   ]
  },
  {
   "cell_type": "code",
   "execution_count": 33,
   "id": "7880c522-6852-4a43-b3e6-209dad0f620f",
   "metadata": {},
   "outputs": [
    {
     "data": {
      "image/png": "[encoded data removed]",
      "text/plain": [
       "<Figure size 432x288 with 1 Axes>"
      ]
     },
     "metadata": {
      "needs_background": "light"
     },
     "output_type": "display_data"
    }
   ],
   "source": [
    "sns.boxplot(x=stock_price_filter)\n",
    "plt.show()"
   ]
  },
  {
   "cell_type": "code",
   "execution_count": 40,
   "id": "b4b5e963-f25b-4a98-9427-e5300d1d079d",
   "metadata": {},
   "outputs": [
    {
     "data": {
      "image/png": "[encoded data removed]",
      "text/plain": [
       "<Figure size 432x288 with 1 Axes>"
      ]
     },
     "metadata": {
      "needs_background": "light"
     },
     "output_type": "display_data"
    }
   ],
   "source": [
    "plt.scatter(stock_day_filter, stock_price_filter)\n",
    "plt.show()"
   ]
  },
  {
   "cell_type": "markdown",
   "id": "b8f25419-8442-4480-a5e2-057fb730e3fe",
   "metadata": {},
   "source": [
    "#### Regresion lineal"
   ]
  },
  {
   "cell_type": "code",
   "execution_count": 43,
   "id": "01d4f787-37e4-4516-8016-b6497ff7aa63",
   "metadata": {},
   "outputs": [
    {
     "name": "stdout",
     "output_type": "stream",
     "text": [
      "Pendiente (W1): -7.35\n",
      "Ordenada al origen (W0): 3423.30\n"
     ]
    }
   ],
   "source": [
    "from sklearn.linear_model import LinearRegression\n",
    "lr = LinearRegression()\n",
    "\n",
    "X = stock_day_filter.reshape(-1, 1)\n",
    "y = stock_price_filter\n",
    "\n",
    "lr.fit(X, y)\n",
    "print(f\"Pendiente (W1): {lr.coef_[0]:.2f}\")\n",
    "print(f\"Ordenada al origen (W0): {lr.intercept_:.2f}\")"
   ]
  },
  {
   "cell_type": "code",
   "execution_count": 48,
   "id": "14bda9cc-5ed0-4f93-96e3-04944ab90d66",
   "metadata": {},
   "outputs": [
    {
     "data": {
      "text/plain": [
       "3092.3733824303"
      ]
     },
     "execution_count": 48,
     "metadata": {},
     "output_type": "execute_result"
    }
   ],
   "source": [
    "# Calcular el valor de la accion un mes adelante (22 dias)\n",
    "X_target = stock_day_filter[-1] + 22\n",
    "y_hat = lr.predict(np.array([[X_target]]))[0]\n",
    "y_hat"
   ]
  },
  {
   "cell_type": "code",
   "execution_count": 50,
   "id": "9b58c8fa-23db-47e9-b20c-860c442bbd65",
   "metadata": {},
   "outputs": [
    {
     "data": {
      "text/plain": [
       "-7.383600223859702"
      ]
     },
     "execution_count": 50,
     "metadata": {},
     "output_type": "execute_result"
    }
   ],
   "source": [
    "ganancia = ((y_hat / precio_promedio) * 100) - 100\n",
    "ganancia"
   ]
  },
  {
   "cell_type": "code",
   "execution_count": 52,
   "id": "6607bdf6-2e8f-49aa-a15e-a99c833789ba",
   "metadata": {},
   "outputs": [
    {
     "name": "stdout",
     "output_type": "stream",
     "text": [
      "No compres! La accion valdra un -7.38% en un mes\n"
     ]
    }
   ],
   "source": [
    "if ganancia >= 2:\n",
    "    print(f\"Comprar! La accion valdra un {ganancia:.2f}% más en un mes\")\n",
    "else:\n",
    "    print(f\"No compres! La accion valdra un {ganancia:.2f}% en un mes\")"
   ]
  },
  {
   "cell_type": "code",
   "execution_count": 56,
   "id": "64a48cd7-aed2-458c-9d83-6f7bc90a3e75",
   "metadata": {},
   "outputs": [
    {
     "data": {
      "image/png": "[encoded data removed]",
      "text/plain": [
       "<Figure size 432x288 with 1 Axes>"
      ]
     },
     "metadata": {
      "needs_background": "light"
     },
     "output_type": "display_data"
    }
   ],
   "source": [
    "X2 = [stock_day_filter[0], X_target]\n",
    "y2 = [lr.predict(np.array([[stock_day_filter[0]]]))[0], y_hat]\n",
    "\n",
    "fig = plt.figure()\n",
    "ax = fig.add_subplot()\n",
    "sns.scatterplot(x=X[:, 0], y=y, label='datos', ax=ax)\n",
    "sns.lineplot(x=X2, y=y2, label='regresion', color='g', ax=ax)\n",
    "ax.legend()\n",
    "ax.grid('dashed')\n",
    "plt.show()"
   ]
  }
 ],
 "metadata": {
  "kernelspec": {
   "display_name": "Python 3",
   "language": "python",
   "name": "python3"
  },
  "language_info": {
   "codemirror_mode": {
    "name": "ipython",
    "version": 3
   },
   "file_extension": ".py",
   "mimetype": "text/x-python",
   "name": "python",
   "nbconvert_exporter": "python",
   "pygments_lexer": "ipython3",
   "version": "3.8.8"
  }
 },
 "nbformat": 4,
 "nbformat_minor": 5
}
