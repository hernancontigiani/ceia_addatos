{
 "cells": [
  {
   "cell_type": "code",
   "execution_count": 21,
   "id": "026d34ea-05e1-4dce-a121-b274950d93f8",
   "metadata": {},
   "outputs": [],
   "source": [
    "import numpy as np\n",
    "import matplotlib.pyplot as plt\n",
    "import seaborn as sns\n",
    "\n",
    "from scipy.stats import skew, kurtosis"
   ]
  },
  {
   "cell_type": "markdown",
   "id": "7ecac58f-46ae-429d-9b26-478ac59bae12",
   "metadata": {},
   "source": [
    "### 1 - Ejercicio"
   ]
  },
  {
   "cell_type": "markdown",
   "id": "89da71bd-c5db-4945-8d65-7b41b5296f97",
   "metadata": {},
   "source": [
    "Simular N=100 muestras de una V.A X con distribución N(0,1)\n",
    "- Encontrar la curtosis y oblicuidad\n",
    "- Encontrar el IQR\n",
    "- Estimar el desvio estandar usando el rango de mediciones simuladas\n",
    "- Trazar el diagrama de BOX"
   ]
  },
  {
   "cell_type": "code",
   "execution_count": 2,
   "id": "9760f101-b60c-44f7-ba30-8acbdaa4e918",
   "metadata": {},
   "outputs": [],
   "source": [
    "mu, sigma = 0, 1 # media y desvio estandar\n",
    "n = 100  # nº muestras\n",
    "X = np.random.normal(mu, sigma, n)"
   ]
  },
  {
   "cell_type": "code",
   "execution_count": 6,
   "id": "df71ca42-788a-4356-a763-98a830529ba5",
   "metadata": {},
   "outputs": [
    {
     "name": "stdout",
     "output_type": "stream",
     "text": [
      "Curtosis: -0.10037310299268976\n"
     ]
    }
   ],
   "source": [
    "# Curtosis\n",
    "print(\"Curtosis:\", kurtosis(X))"
   ]
  },
  {
   "cell_type": "code",
   "execution_count": 3,
   "id": "a3b34049-4ad7-4098-adcc-d31f1c229dca",
   "metadata": {},
   "outputs": [
    {
     "name": "stdout",
     "output_type": "stream",
     "text": [
      "Oblicuidad: 0.10161644378757455\n"
     ]
    }
   ],
   "source": [
    "# Oblicuidad\n",
    "print(\"Oblicuidad:\", skew(X))"
   ]
  },
  {
   "cell_type": "code",
   "execution_count": 13,
   "id": "2445978a-93e4-4376-8361-5855f07093be",
   "metadata": {},
   "outputs": [
    {
     "name": "stdout",
     "output_type": "stream",
     "text": [
      "IQR: 1.3741435235329298\n"
     ]
    }
   ],
   "source": [
    "# IQR\n",
    "q3 = np.quantile(X, 0.75)\n",
    "q1 = np.quantile(X, 0.25)\n",
    "iqr = q3-q1\n",
    "print(\"IQR:\", iqr)"
   ]
  },
  {
   "cell_type": "code",
   "execution_count": 18,
   "id": "ce472405-f1bf-41b8-abde-a8eccde07f53",
   "metadata": {},
   "outputs": [
    {
     "name": "stdout",
     "output_type": "stream",
     "text": [
      "Desvio estandar estimado 0.8508382330496844 vs 0.9904349712148675\n"
     ]
    }
   ],
   "source": [
    "rango = np.quantile(X, 0.975) - np.quantile(X, 0.025)\n",
    "std_estimado = rango / 4\n",
    "std_aritmetico = X.std()\n",
    "print(\"Desvio estandar estimado\", std_estimado, \"vs\", std_aritmetico)"
   ]
  },
  {
   "cell_type": "code",
   "execution_count": 26,
   "id": "09a65dee-fd25-4b82-b73e-b883ce999e33",
   "metadata": {},
   "outputs": [
    {
     "data": {
      "image/png": "[encoded data removed]",
      "text/plain": [
       "<Figure size 432x288 with 1 Axes>"
      ]
     },
     "metadata": {
      "needs_background": "light"
     },
     "output_type": "display_data"
    }
   ],
   "source": [
    "sns.boxplot(x=X)\n",
    "plt.show()"
   ]
  },
  {
   "cell_type": "markdown",
   "id": "3fd37096-58bb-4398-b1c1-168b8b40f187",
   "metadata": {},
   "source": [
    "### 2 - Ejercicio"
   ]
  },
  {
   "cell_type": "markdown",
   "id": "f3b6ea0c-3984-4913-8568-157f505bd1a7",
   "metadata": {},
   "source": [
    "Simular N=100 muestras de una V.A X con distribución exponencial lamda=1\n",
    "- Encontrar la curtosis y oblicuidad\n",
    "- Encontrar el IQR\n",
    "- Estimar el desvio estandar usando el rango de mediciones simuladas\n",
    "- Trazar el diagrama de BOX"
   ]
  },
  {
   "cell_type": "code",
   "execution_count": 34,
   "id": "b4367feb-0152-40fb-b119-b67ec8f19f19",
   "metadata": {},
   "outputs": [],
   "source": [
    "n = 100  # nº muestras\n",
    "X2 = np.random.exponential(1, n)"
   ]
  },
  {
   "cell_type": "code",
   "execution_count": 35,
   "id": "befdc147-0122-4323-b6dd-32a548e512d7",
   "metadata": {},
   "outputs": [
    {
     "name": "stdout",
     "output_type": "stream",
     "text": [
      "Curtosis: 13.072145435157399\n"
     ]
    }
   ],
   "source": [
    "# Curtosis\n",
    "print(\"Curtosis:\", kurtosis(X2))"
   ]
  },
  {
   "cell_type": "code",
   "execution_count": 36,
   "id": "db7d4cda-184c-4be3-9da3-3b4bc47366d6",
   "metadata": {},
   "outputs": [
    {
     "name": "stdout",
     "output_type": "stream",
     "text": [
      "Oblicuidad: 2.7497436255401446\n"
     ]
    }
   ],
   "source": [
    "# Oblicuidad\n",
    "print(\"Oblicuidad:\", skew(X2))"
   ]
  },
  {
   "cell_type": "code",
   "execution_count": 37,
   "id": "13eba957-8961-4e39-97bb-1258837f6585",
   "metadata": {},
   "outputs": [
    {
     "name": "stdout",
     "output_type": "stream",
     "text": [
      "IQR: 1.1573539569640976\n"
     ]
    }
   ],
   "source": [
    "# IQR\n",
    "q3 = np.quantile(X2, 0.75)\n",
    "q1 = np.quantile(X2, 0.25)\n",
    "iqr = q3-q1\n",
    "print(\"IQR:\", iqr)"
   ]
  },
  {
   "cell_type": "code",
   "execution_count": 38,
   "id": "5c62c6b3-a341-4a0a-bad6-99119435c532",
   "metadata": {},
   "outputs": [
    {
     "name": "stdout",
     "output_type": "stream",
     "text": [
      "Desvio estandar estimado 0.7399415843642688 vs 1.0222699159388478\n"
     ]
    }
   ],
   "source": [
    "rango = np.quantile(X2, 0.975) - np.quantile(X2, 0.025)\n",
    "std_estimado = rango / 4\n",
    "std_aritmetico = X2.std()\n",
    "print(\"Desvio estandar estimado\", std_estimado, \"vs\", std_aritmetico)"
   ]
  },
  {
   "cell_type": "code",
   "execution_count": 39,
   "id": "4b89ef63-0466-446a-a2ca-ae429dba94dd",
   "metadata": {},
   "outputs": [
    {
     "data": {
      "image/png": "[encoded data removed]",
      "text/plain": [
       "<Figure size 432x288 with 1 Axes>"
      ]
     },
     "metadata": {
      "needs_background": "light"
     },
     "output_type": "display_data"
    }
   ],
   "source": [
    "sns.boxplot(x=X2)\n",
    "plt.show()"
   ]
  },
  {
   "cell_type": "markdown",
   "id": "d0092353-83f6-4f51-a82c-3566c7c9422d",
   "metadata": {},
   "source": [
    "### 3 - Ejercicio"
   ]
  }
 ],
 "metadata": {
  "kernelspec": {
   "display_name": "Python 3",
   "language": "python",
   "name": "python3"
  },
  "language_info": {
   "codemirror_mode": {
    "name": "ipython",
    "version": 3
   },
   "file_extension": ".py",
   "mimetype": "text/x-python",
   "name": "python",
   "nbconvert_exporter": "python",
   "pygments_lexer": "ipython3",
   "version": "3.8.8"
  }
 },
 "nbformat": 4,
 "nbformat_minor": 5
}
